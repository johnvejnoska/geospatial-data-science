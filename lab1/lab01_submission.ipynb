{
 "cells": [
  {
   "cell_type": "code",
   "execution_count": 2,
   "id": "a4e0c8b0",
   "metadata": {},
   "outputs": [
    {
     "name": "stdout",
     "output_type": "stream",
     "text": [
      "80\n"
     ]
    }
   ],
   "source": [
    "import numpy as np\n",
    "a = 20\n",
    "b = 4\n",
    "c = np.multiply(a, b)\n",
    "print(c)"
   ]
  },
  {
   "cell_type": "markdown",
   "id": "37814480",
   "metadata": {},
   "source": [
    "# Lab 01\n",
    "\n",
    "![SpaceX Zero Gravity](img_spacex_zero_gravity.jpg)\n",
    "A violinist plays her instrument aboard the starship en route to mars\n",
    "- Musk's tweet, <em>Starship Concerto in Zero G</em>\n",
    "- This is very <strong>inspiring</strong> to me\n"
   ]
  },
  {
   "cell_type": "code",
   "execution_count": null,
   "id": "90fe6661",
   "metadata": {},
   "outputs": [],
   "source": []
  }
 ],
 "metadata": {
  "kernelspec": {
   "display_name": "Python 3 (ipykernel)",
   "language": "python",
   "name": "python3"
  },
  "language_info": {
   "codemirror_mode": {
    "name": "ipython",
    "version": 3
   },
   "file_extension": ".py",
   "mimetype": "text/x-python",
   "name": "python",
   "nbconvert_exporter": "python",
   "pygments_lexer": "ipython3",
   "version": "3.8.12"
  }
 },
 "nbformat": 4,
 "nbformat_minor": 5
}
